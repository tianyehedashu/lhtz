{
 "cells": [
  {
   "cell_type": "code",
   "execution_count": 6,
   "id": "e1343870-5762-4bfc-9c3e-332cb0698531",
   "metadata": {},
   "outputs": [
    {
     "name": "stdout",
     "output_type": "stream",
     "text": [
      "./data/day/hfq/SZ#002331.csv\n",
      "            date  close     ztj\n",
      "0     2015/09/02  13.25     NaN\n",
      "1     2015/09/07  14.10  14.575\n",
      "2     2015/09/08  15.51  15.510\n",
      "3     2015/09/09  17.06  17.061\n",
      "4     2015/09/10  16.22  18.766\n",
      "...          ...    ...     ...\n",
      "1832  2023/11/23  11.26  11.275\n",
      "1833  2023/11/24  12.36  12.386\n",
      "1834  2023/11/27  13.57  13.596\n",
      "1835  2023/11/28  14.91  14.927\n",
      "1836  2023/11/29  13.44  16.401\n",
      "\n",
      "[1837 rows x 3 columns]\n"
     ]
    }
   ],
   "source": [
    "import pandas as pd\n",
    "def read_tdx_offline_data():\n",
    "    global columns, df, df\n",
    "    columns = [\"date\", \"open\", \"high\", \"low\", \"close\", \"amount\", \"volume\"]\n",
    "    # D:\\tdx-data\\t23-1128\n",
    "    stock_code1 = \"SH#688408.csv\"\n",
    "    wtkj_code = \"SZ#002331.csv\"\n",
    "    print(f\"./data/day/hfq/{wtkj_code}\")\n",
    "    df = pd.read_csv(f\"./data/t23-1129/day/hfq/{wtkj_code}\",\n",
    "                     encoding=\"gbk\",\n",
    "                     skiprows = 2,\n",
    "                     header=None)\n",
    "    df.columns = columns\n",
    "    df = df.iloc[:-1]\n",
    "    df['pct_change'] = df['close'].pct_change()\n",
    "    df['limit_up'] = ((df['close'] > df['close'].shift(1)) & (df['pct_change'] >= 0.1)) | (\n",
    "            (df['volume'] > df['volume'].shift(1)) & (df['pct_change'] < 0.1))\n",
    "    df[\"ztj\"] = df['close'].shift(1) * 1.1\n",
    "    print(df[['date', 'close', 'ztj']])\n",
    "\n",
    "\n",
    "df = read_tdx_offline_data()\n",
    "\n",
    "# pro = get_tushare_pro()\n",
    "\n",
    "# df2 = pro.limit_list_d(limit_type='U',\n",
    "#                        start_data='19901219',\n",
    "#                        end_data='20231113',\n",
    "#                        fields='ts_code,trade_date,industry,name,close,pct_chg,open_times,up_stat,limit_times')\n",
    "\n",
    "# # 将日期列转换为datetime类型\n",
    "# df2['date'] = pd.to_datetime(df2['trade_date'])\n",
    "\n",
    "# # 按照日期升序排序\n",
    "# df_sorted = df2.sort_values('date')\n",
    "# print(df_sorted)"
   ]
  },
  {
   "cell_type": "code",
   "execution_count": 2,
   "id": "7f2aa7b5-9445-478b-8c18-578bf2531b6b",
   "metadata": {},
   "outputs": [
    {
     "data": {
      "text/plain": [
       "'D:\\\\project\\\\stock\\\\lhhc'"
      ]
     },
     "execution_count": 2,
     "metadata": {},
     "output_type": "execute_result"
    }
   ],
   "source": [
    "pwd\n"
   ]
  },
  {
   "cell_type": "code",
   "execution_count": 7,
   "id": "1bf957fd-1c62-4880-8d96-e51ed2547894",
   "metadata": {},
   "outputs": [],
   "source": [
    "import glob\n"
   ]
  },
  {
   "cell_type": "code",
   "execution_count": 8,
   "id": "e47c9fcb-e0d2-4be9-88ba-149c6ed09c08",
   "metadata": {},
   "outputs": [
    {
     "ename": "NameError",
     "evalue": "name 'os' is not defined",
     "output_type": "error",
     "traceback": [
      "\u001b[1;31m---------------------------------------------------------------------------\u001b[0m",
      "\u001b[1;31mNameError\u001b[0m                                 Traceback (most recent call last)",
      "Cell \u001b[1;32mIn[8], line 1\u001b[0m\n\u001b[1;32m----> 1\u001b[0m datafilelist \u001b[38;5;241m=\u001b[39m glob\u001b[38;5;241m.\u001b[39mglob(\u001b[43mos\u001b[49m\u001b[38;5;241m.\u001b[39mpath\u001b[38;5;241m.\u001b[39mjoin(data, \u001b[38;5;124m'\u001b[39m\u001b[38;5;124m*\u001b[39m\u001b[38;5;124m'\u001b[39m))\n",
      "\u001b[1;31mNameError\u001b[0m: name 'os' is not defined"
     ]
    }
   ],
   "source": [
    "datafilelist = glob.glob(os.path.join(data, '*'))"
   ]
  },
  {
   "cell_type": "code",
   "execution_count": 10,
   "id": "5d89a2d2-11a2-4ab6-bd0b-b4d41eb497e4",
   "metadata": {},
   "outputs": [],
   "source": [
    "import os\n"
   ]
  },
  {
   "cell_type": "code",
   "execution_count": 12,
   "id": "fe8257cb-c033-4790-92e1-a30bf1b2410d",
   "metadata": {},
   "outputs": [],
   "source": [
    "datafilelist = glob.glob(os.path.join('./data/t23-1129/day/hfq/', '*'))"
   ]
  },
  {
   "cell_type": "code",
   "execution_count": 13,
   "id": "df1d8784-5207-4363-b22c-8be1ec384189",
   "metadata": {},
   "outputs": [
    {
     "data": {
      "text/plain": [
       "['./data\\\\t23-1129']"
      ]
     },
     "execution_count": 13,
     "metadata": {},
     "output_type": "execute_result"
    }
   ],
   "source": [
    "datafilelist\n"
   ]
  },
  {
   "cell_type": "code",
   "execution_count": null,
   "id": "8ec434ed-1dbe-4ee3-a361-4a0ce2ce6919",
   "metadata": {},
   "outputs": [],
   "source": []
  }
 ],
 "metadata": {
  "kernelspec": {
   "display_name": "Python 3 (ipykernel)",
   "language": "python",
   "name": "python3"
  },
  "language_info": {
   "codemirror_mode": {
    "name": "ipython",
    "version": 3
   },
   "file_extension": ".py",
   "mimetype": "text/x-python",
   "name": "python",
   "nbconvert_exporter": "python",
   "pygments_lexer": "ipython3",
   "version": "3.12.0"
  }
 },
 "nbformat": 4,
 "nbformat_minor": 5
}
